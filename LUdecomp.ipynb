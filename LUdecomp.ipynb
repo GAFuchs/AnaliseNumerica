{
 "cells": [
  {
   "cell_type": "code",
   "execution_count": 4,
   "metadata": {
    "collapsed": false
   },
   "outputs": [
    {
     "name": "stdout",
     "output_type": "stream",
     "text": [
      "\n",
      "\n",
      "LU[1][0] = 0.333333\n",
      "\n",
      "LU[1][1] = 4.666667\n",
      "LU[1][2] = 4.666667\n",
      "\n",
      "\n",
      "LU[2][0] = 1.000000\n",
      "\n",
      "LU[2][1] = 0.000000\n",
      "LU[2][2] = 1.000000\n",
      "\n",
      "\n",
      "LU[2][1] = 0.000000\n",
      "\n",
      "LU[2][2] = 1.000000\n",
      "\n",
      "\n",
      "\n",
      "[[ 3.          1.          4.        ]\n",
      " [ 0.33333333  4.66666667  4.66666667]\n",
      " [ 1.          0.          1.        ]]\n",
      "[ 1.  3.]\n"
     ]
    },
    {
     "ename": "IndexError",
     "evalue": "index 2 is out of bounds for axis 0 with size 2",
     "output_type": "error",
     "traceback": [
      "\u001b[1;31m---------------------------------------------------------------------------\u001b[0m",
      "\u001b[1;31mIndexError\u001b[0m                                Traceback (most recent call last)",
      "\u001b[1;32m<ipython-input-4-e17726731147>\u001b[0m in \u001b[0;36m<module>\u001b[1;34m()\u001b[0m\n\u001b[0;32m     66\u001b[0m \u001b[0mb\u001b[0m \u001b[1;33m=\u001b[0m \u001b[0mnp\u001b[0m\u001b[1;33m.\u001b[0m\u001b[0marray\u001b[0m\u001b[1;33m(\u001b[0m\u001b[1;33m[\u001b[0m\u001b[1;36m1.0\u001b[0m\u001b[1;33m,\u001b[0m\u001b[1;36m3.0\u001b[0m\u001b[1;33m]\u001b[0m\u001b[1;33m)\u001b[0m\u001b[1;33m\u001b[0m\u001b[0m\n\u001b[0;32m     67\u001b[0m \u001b[1;32mprint\u001b[0m\u001b[1;33m(\u001b[0m\u001b[0mb\u001b[0m\u001b[1;33m)\u001b[0m\u001b[1;33m\u001b[0m\u001b[0m\n\u001b[1;32m---> 68\u001b[1;33m \u001b[0mx\u001b[0m \u001b[1;33m=\u001b[0m \u001b[0mLUsolve\u001b[0m\u001b[1;33m(\u001b[0m\u001b[0mLU\u001b[0m\u001b[1;33m,\u001b[0m\u001b[0mb\u001b[0m\u001b[1;33m)\u001b[0m\u001b[1;33m\u001b[0m\u001b[0m\n\u001b[0m\u001b[0;32m     69\u001b[0m \u001b[1;32mprint\u001b[0m\u001b[1;33m(\u001b[0m\u001b[0mx\u001b[0m\u001b[1;33m)\u001b[0m\u001b[1;33m\u001b[0m\u001b[0m\n\u001b[0;32m     70\u001b[0m \u001b[0mIA\u001b[0m \u001b[1;33m=\u001b[0m \u001b[0mLUinverse\u001b[0m\u001b[1;33m(\u001b[0m\u001b[0mLU\u001b[0m\u001b[1;33m)\u001b[0m\u001b[1;33m\u001b[0m\u001b[0m\n",
      "\u001b[1;32m<ipython-input-4-e17726731147>\u001b[0m in \u001b[0;36mLUsolve\u001b[1;34m(LU, b)\u001b[0m\n\u001b[0;32m     37\u001b[0m \u001b[1;33m\u001b[0m\u001b[0m\n\u001b[0;32m     38\u001b[0m \u001b[1;32mdef\u001b[0m \u001b[0mLUsolve\u001b[0m\u001b[1;33m(\u001b[0m\u001b[0mLU\u001b[0m\u001b[1;33m,\u001b[0m\u001b[0mb\u001b[0m\u001b[1;33m)\u001b[0m\u001b[1;33m:\u001b[0m\u001b[1;33m\u001b[0m\u001b[0m\n\u001b[1;32m---> 39\u001b[1;33m     \u001b[0my\u001b[0m \u001b[1;33m=\u001b[0m \u001b[0mLUforwardsub\u001b[0m\u001b[1;33m(\u001b[0m\u001b[0mLU\u001b[0m\u001b[1;33m,\u001b[0m\u001b[0mb\u001b[0m\u001b[1;33m)\u001b[0m\u001b[1;33m\u001b[0m\u001b[0m\n\u001b[0m\u001b[0;32m     40\u001b[0m     \u001b[0mx\u001b[0m \u001b[1;33m=\u001b[0m \u001b[0mLUbackwardsub\u001b[0m\u001b[1;33m(\u001b[0m\u001b[0mLU\u001b[0m\u001b[1;33m,\u001b[0m\u001b[0my\u001b[0m\u001b[1;33m)\u001b[0m\u001b[1;33m\u001b[0m\u001b[0m\n\u001b[0;32m     41\u001b[0m     \u001b[1;32mreturn\u001b[0m \u001b[0mx\u001b[0m\u001b[1;33m\u001b[0m\u001b[0m\n",
      "\u001b[1;32m<ipython-input-4-e17726731147>\u001b[0m in \u001b[0;36mLUforwardsub\u001b[1;34m(L, b)\u001b[0m\n\u001b[0;32m     20\u001b[0m     \u001b[0my\u001b[0m\u001b[1;33m[\u001b[0m\u001b[1;36m0\u001b[0m\u001b[1;33m]\u001b[0m \u001b[1;33m=\u001b[0m \u001b[0mb\u001b[0m\u001b[1;33m[\u001b[0m\u001b[1;36m0\u001b[0m\u001b[1;33m]\u001b[0m\u001b[1;33m\u001b[0m\u001b[0m\n\u001b[0;32m     21\u001b[0m     \u001b[1;32mfor\u001b[0m \u001b[0mi\u001b[0m \u001b[1;32min\u001b[0m \u001b[0mrange\u001b[0m\u001b[1;33m(\u001b[0m\u001b[1;36m1\u001b[0m\u001b[1;33m,\u001b[0m\u001b[0mn\u001b[0m\u001b[1;33m)\u001b[0m\u001b[1;33m:\u001b[0m\u001b[1;33m\u001b[0m\u001b[0m\n\u001b[1;32m---> 22\u001b[1;33m         \u001b[0my\u001b[0m\u001b[1;33m[\u001b[0m\u001b[0mi\u001b[0m\u001b[1;33m]\u001b[0m \u001b[1;33m=\u001b[0m \u001b[0mb\u001b[0m\u001b[1;33m[\u001b[0m\u001b[0mi\u001b[0m\u001b[1;33m]\u001b[0m\u001b[1;33m\u001b[0m\u001b[0m\n\u001b[0m\u001b[0;32m     23\u001b[0m         \u001b[1;32mfor\u001b[0m \u001b[0mj\u001b[0m \u001b[1;32min\u001b[0m \u001b[0mrange\u001b[0m\u001b[1;33m(\u001b[0m\u001b[0mi\u001b[0m\u001b[1;33m)\u001b[0m\u001b[1;33m:\u001b[0m\u001b[1;33m\u001b[0m\u001b[0m\n\u001b[0;32m     24\u001b[0m             \u001b[0my\u001b[0m\u001b[1;33m[\u001b[0m\u001b[0mi\u001b[0m\u001b[1;33m]\u001b[0m \u001b[1;33m=\u001b[0m \u001b[0my\u001b[0m\u001b[1;33m[\u001b[0m\u001b[0mi\u001b[0m\u001b[1;33m]\u001b[0m \u001b[1;33m-\u001b[0m \u001b[0mL\u001b[0m\u001b[1;33m[\u001b[0m\u001b[0mi\u001b[0m\u001b[1;33m]\u001b[0m\u001b[1;33m[\u001b[0m\u001b[0mj\u001b[0m\u001b[1;33m]\u001b[0m\u001b[1;33m*\u001b[0m\u001b[0my\u001b[0m\u001b[1;33m[\u001b[0m\u001b[0mj\u001b[0m\u001b[1;33m]\u001b[0m\u001b[1;33m\u001b[0m\u001b[0m\n",
      "\u001b[1;31mIndexError\u001b[0m: index 2 is out of bounds for axis 0 with size 2"
     ]
    }
   ],
   "source": [
    "import numpy as np\n",
    "\n",
    "def LUdecomp(A):\n",
    "    LU = np.copy(A)\n",
    "    n = len(A)\n",
    "    for j in range(n-1):\n",
    "        for i in range(j+1,n):\n",
    "            LU[i][j] = LU[i][j]/LU[j][j]\n",
    "            for k in range(j+1,n):\n",
    "                LU[i][k] = LU[i][k] - LU[i][j]*LU[j][k]\n",
    "    return LU\n",
    "\n",
    "def LUforwardsub (L,b):\n",
    "    n = len(L)\n",
    "    y = np.zeros(n)\n",
    "    y[0] = b[0]\n",
    "    for i in range(1,n):\n",
    "        y[i] = b[i]\n",
    "        for j in range(i):\n",
    "            y[i] = y[i] - L[i][j]*y[j]\n",
    "    return y\n",
    "            \n",
    "def LUbackwardsub (U,y):\n",
    "    n = len(U)\n",
    "    x = np.zeros(n)\n",
    "    x[n-1] = y[n-1]/U[n-1,n-1]\n",
    "    for i in range(n-2,-1,-1):\n",
    "        x[i] = y[i]\n",
    "        for j in range(i+1,n):\n",
    "            x[i] = x[i] - U[i][j]*x[j]\n",
    "        x[i] /= U[i][i]\n",
    "    return x\n",
    "    \n",
    "def LUsolve(LU,b):\n",
    "    y = LUforwardsub(LU,b)\n",
    "    x = LUbackwardsub(LU,y)\n",
    "    return x\n",
    "    \n",
    "def LUinverse(LU):\n",
    "    n = len(LU)\n",
    "    e = np.zeros(n)\n",
    "    I = np.zeros((n,n))\n",
    "    for j in range(n):\n",
    "        e[j] = 1.0\n",
    "        x = LUsolve(LU,e)\n",
    "        for i in range(n):\n",
    "            I[i][j] = x[i]\n",
    "        e[j] = 0.0\n",
    "    return I\n",
    "\n",
    "def LUdet(LU):\n",
    "    n = len(LU)\n",
    "    det = 1.0\n",
    "    for i in range(n):\n",
    "        det = det * LU[i][i]\n",
    "    return det\n",
    "\n",
    "#A = np.matrix([[3.0,1.0],[1.0,5.0]])]\n",
    "A = np.matrix([[1.0,5.0,6.0],[3.0,1.0,4.0],[4.0,1.0,5.0]])\n",
    "LU = LUdecomp(A)\n",
    "print(LU)\n",
    "b = np.array([1.0,3.0])\n",
    "print(b)\n",
    "x = LUsolve(LU,b)\n",
    "print(x)\n",
    "IA = LUinverse(LU)\n",
    "print(IA)\n",
    "print(np.dot(A,IA))\n",
    "print(LUdet(LU))"
   ]
  },
  {
   "cell_type": "code",
   "execution_count": 33,
   "metadata": {
    "collapsed": false
   },
   "outputs": [
    {
     "data": {
      "text/plain": [
       "1.7320508075688772"
      ]
     },
     "execution_count": 33,
     "metadata": {},
     "output_type": "execute_result"
    }
   ],
   "source": [
    "np.linalg.norm(b)"
   ]
  },
  {
   "cell_type": "code",
   "execution_count": 34,
   "metadata": {
    "collapsed": false
   },
   "outputs": [
    {
     "data": {
      "text/plain": [
       "1"
      ]
     },
     "execution_count": 34,
     "metadata": {},
     "output_type": "execute_result"
    }
   ],
   "source": [
    "np.linalg.norm(b,np.inf)"
   ]
  },
  {
   "cell_type": "code",
   "execution_count": 35,
   "metadata": {
    "collapsed": false
   },
   "outputs": [
    {
     "data": {
      "text/plain": [
       "1.0690449676496976"
      ]
     },
     "execution_count": 35,
     "metadata": {},
     "output_type": "execute_result"
    }
   ],
   "source": [
    "np.linalg.norm(np.dot(A,x)-b)"
   ]
  },
  {
   "cell_type": "code",
   "execution_count": 36,
   "metadata": {
    "collapsed": false
   },
   "outputs": [
    {
     "data": {
      "text/plain": [
       "1.7142857142857142"
      ]
     },
     "execution_count": 36,
     "metadata": {},
     "output_type": "execute_result"
    }
   ],
   "source": [
    "np.linalg.norm(np.dot(A,x)-b,np.inf)"
   ]
  },
  {
   "cell_type": "code",
   "execution_count": 37,
   "metadata": {
    "collapsed": false
   },
   "outputs": [
    {
     "data": {
      "text/plain": [
       "1.7142857142857142"
      ]
     },
     "execution_count": 37,
     "metadata": {},
     "output_type": "execute_result"
    }
   ],
   "source": [
    "np.linalg.norm(np.dot(A,x)-b,np.inf)/np.linalg.norm(b,np.inf)"
   ]
  },
  {
   "cell_type": "code",
   "execution_count": 38,
   "metadata": {
    "collapsed": false
   },
   "outputs": [
    {
     "data": {
      "text/plain": [
       "[]"
      ]
     },
     "execution_count": 38,
     "metadata": {},
     "output_type": "execute_result"
    }
   ],
   "source": [
    "range(5,2)"
   ]
  },
  {
   "cell_type": "code",
   "execution_count": 39,
   "metadata": {
    "collapsed": false
   },
   "outputs": [
    {
     "name": "stdout",
     "output_type": "stream",
     "text": [
      "[5, 4, 3, 2, 1, 0]\n"
     ]
    }
   ],
   "source": [
    "x = list(range(5,-1,-1))\n",
    "print(x)"
   ]
  },
  {
   "cell_type": "code",
   "execution_count": 46,
   "metadata": {
    "collapsed": false
   },
   "outputs": [
    {
     "name": "stdout",
     "output_type": "stream",
     "text": [
      "[[ 3.  1.]\n",
      " [ 1.  5.]]\n",
      "[ 1.  3.]\n",
      "[ 0.14285714  0.57142857]\n",
      "[[ 1.  3.]]\n"
     ]
    }
   ],
   "source": [
    "A = np.matrix([[1.0,-1.0],[1.0,0.0],[1.0,2.0]])\n",
    "AtA = np.dot(np.transpose(A),A)\n",
    "print(AtA)\n",
    "LU = LUdecomp(AtA)\n",
    "b = np.array([-1.0,1.0,1.0])\n",
    "z = np.dot(np.transpose(A),b)\n",
    "Atb = np.zeros(np.shape(A)[1])\n",
    "for i in range(np.shape(A)[1]):\n",
    "    Atb[i] = z[0,i]\n",
    "print(Atb)\n",
    "x = LUsolve(LU,Atb)\n",
    "print(x)\n",
    "print(np.dot(AtA,x))"
   ]
  },
  {
   "cell_type": "code",
   "execution_count": null,
   "metadata": {
    "collapsed": true
   },
   "outputs": [],
   "source": []
  }
 ],
 "metadata": {
  "kernelspec": {
   "display_name": "Python 2",
   "language": "python",
   "name": "python2"
  },
  "language_info": {
   "codemirror_mode": {
    "name": "ipython",
    "version": 2
   },
   "file_extension": ".py",
   "mimetype": "text/x-python",
   "name": "python",
   "nbconvert_exporter": "python",
   "pygments_lexer": "ipython2",
   "version": "2.7.11"
  }
 },
 "nbformat": 4,
 "nbformat_minor": 0
}
