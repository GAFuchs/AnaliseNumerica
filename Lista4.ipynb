{
 "cells": [
  {
   "cell_type": "code",
   "execution_count": 142,
   "metadata": {
    "collapsed": true
   },
   "outputs": [],
   "source": [
    "from sympy import *\n",
    "import numpy as np\n",
    "import math\n",
    "\n",
    "def GetVetorResult(F,x):\n",
    "    \n",
    "    r = np.zeros(len(x))\n",
    "    \n",
    "    for i in range(len(r)):\n",
    "        r[i] = F(x)[i]\n",
    "        \n",
    "    return r\n",
    "\n",
    "\n",
    "def NewtonMultivariado(F, J, x0, N, c):\n",
    "    \n",
    "    x1 = np.copy(x0)\n",
    "    \n",
    "    for i in range(N):\n",
    "        \n",
    "        x0 = x1\n",
    "        \n",
    "        auxJ = np.zeros((len(x0),len(x0)))\n",
    "        \n",
    "        for j in range(len(auxJ)):\n",
    "            for k in range(len(auxJ)):                \n",
    "                auxJ[j][k] = J(x0)[j][k]\n",
    "        \n",
    "        auxJInv = np.linalg.inv(auxJ)\n",
    "        JF = np.dot(auxJInv, GetVetorResult(F,x0))\n",
    "        x1 = np.subtract(x0,JF)\n",
    "        \n",
    "        if (abs(np.subtract(x1,x0).size) < c):            \n",
    "            break\n",
    "        \n",
    "    return x1\n",
    "    "
   ]
  },
  {
   "cell_type": "code",
   "execution_count": 159,
   "metadata": {
    "collapsed": false
   },
   "outputs": [
    {
     "name": "stdout",
     "output_type": "stream",
     "text": [
      "[ 1.51433683  0.06603551]\n",
      "[ 0.06603551  1.51433683]\n",
      "[-1.51433683 -0.06603551]\n",
      "[-0.06603551 -1.51433683]\n"
     ]
    }
   ],
   "source": [
    "def F1(x):\n",
    "\n",
    "    f1 = math.exp(-(x[0]**2+x[1]**2))*math.cos(x[0]*x[1]) - 0.1\n",
    "\n",
    "    f2 = x[0]*x[1] - 0.1\n",
    "\n",
    "    Fx = np.array([f1,f2])\n",
    "\n",
    "    return Fx\n",
    "\n",
    "\n",
    "def DF1(x):\n",
    "\n",
    "    DFx = np.zeros((2,2))\n",
    "\n",
    "    DFx[0][0] = (-2.0*x[0]*math.exp(-(x[0]**2+x[1]**2)))*math.cos(x[0]*x[1]) - math.exp(-(x[0]**2+x[1]**2))*(math.sin(x[0]*x[1])*x[1])\n",
    "\n",
    "    DFx[0][1] = (-2.0*x[1]*math.exp(-(x[0]**2+x[1]**2)))*math.cos(x[0]*x[1]) - math.exp(-(x[0]**2+x[1]**2))*(math.sin(x[0]*x[1])*x[0])\n",
    "\n",
    "    DFx[1][0] = x[1]\n",
    "\n",
    "    DFx[1][1] = x[0]\n",
    "\n",
    "    return DFx\n",
    "\n",
    "print(NewtonMultivariado(F1, DF1, np.array([1,0]), 10, 0.001))\n",
    "print(NewtonMultivariado(F1, DF1, np.array([0,1]), 10, 0.001))\n",
    "print(NewtonMultivariado(F1, DF1, np.array([-1,0]), 10, 0.001))\n",
    "print(NewtonMultivariado(F1, DF1, np.array([0,-1]), 10, 0.001))"
   ]
  },
  {
   "cell_type": "code",
   "execution_count": null,
   "metadata": {
    "collapsed": true
   },
   "outputs": [],
   "source": []
  },
  {
   "cell_type": "code",
   "execution_count": null,
   "metadata": {
    "collapsed": true
   },
   "outputs": [],
   "source": []
  }
 ],
 "metadata": {
  "kernelspec": {
   "display_name": "Python 2",
   "language": "python",
   "name": "python2"
  },
  "language_info": {
   "codemirror_mode": {
    "name": "ipython",
    "version": 2
   },
   "file_extension": ".py",
   "mimetype": "text/x-python",
   "name": "python",
   "nbconvert_exporter": "python",
   "pygments_lexer": "ipython2",
   "version": "2.7.11"
  }
 },
 "nbformat": 4,
 "nbformat_minor": 0
}
