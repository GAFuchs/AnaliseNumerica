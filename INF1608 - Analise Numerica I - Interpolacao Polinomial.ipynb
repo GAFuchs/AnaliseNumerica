{
 "cells": [
  {
   "cell_type": "markdown",
   "metadata": {},
   "source": [
    "## INF1608 - Análise Numérica - 2016.1\n",
    "## Departamento de Informática - PUC-Rio \n",
    "## Prof. Hélio Lopes - lopes@inf.puc-rio.br\n",
    "## http://www.inf.puc-rio.br/~lopes\n",
    "\n",
    "\n",
    "\n",
    "## Interpolação polinomial de pontos\n",
    "\n",
    "Suponha que tenhamos uma amostra com $n$ valores, feitas em pontos distintos, de uma função desconhecida $f:R\\to R$.\n",
    "Isso quer dizer que temos os seguintes dados:\n",
    "\n",
    "$$ f(x_1) = y_1$$\n",
    "$$ f(x_2) = y_2$$\n",
    "$$\\vdots$$\n",
    "$$ f(x_n) = y_n$$ \n",
    "\n",
    "Gostaria de encontrar uma função que interpolasse $f$. Uma opção seria criar um polinômio $p$ de grau $n-1$ que satisfaça $p(x_i) = y_i$, para $i = 1,\\ldots,n$.\n",
    "\n",
    "Considerando que \n",
    "\n",
    "$$p(x) = a_0 + a_1 x + a_2 x^2 + \\cdot + a_{n-1} x^{n-1},$$\n",
    "\n",
    "então temos que resolver o seguinte sistema de equações:\n",
    "\n",
    "$$ a_0 + a_1 x_1 + a_2 x_1^2 + \\cdot + a_{n-1} x_1^{n-1}  =  y_1 $$\n",
    "\n",
    "$$\n",
    "a_0 + a_1 x_2 + a_2 x_2^2 + \\cdot + a_{n-1} x_2^{n-1}  =  y_2 \n",
    "$$\n",
    "\n",
    "$$\n",
    "\\vdots \n",
    "$$\n",
    "\n",
    "$$\n",
    "a_0 + a_1 x_n + a_2 x_n^2 + \\cdot + a_{n-1} x_n^{n-1}  =  y_n\n",
    "$$\n",
    "\n",
    "Esse sistema pode ser re-escrito na seguinte forma matrical:\n",
    "\n",
    "$\n",
    "\\left[ \\begin{array}{cccc}\n",
    "1 & x_1  & x_1^2 & \\cdots & x_1^{n-1} \\\\ \n",
    "1 & x_2  & x_2^2 & \\cdots & x_2^{n-1} \\\\ \n",
    "\\vdots    & \\vdots & \\ddots & \\vdots \\\\\n",
    "1 & x_n  & x_n^2 & \\cdots & x_n^{n-1} \\\\ \n",
    "\\end{array} \\right]\n",
    "$\n",
    "$\n",
    "\\left[ \\begin{array}{c}\n",
    "a_0  \\\\ \n",
    "a_1  \\\\ \n",
    "\\vdots \\\\\n",
    "a_{n-1} \\\\ \n",
    "\\end{array} \\right]\n",
    "$\n",
    "=\n",
    "$\n",
    "\\left[ \\begin{array}{c}\n",
    "y_0  \\\\ \n",
    "y_1  \\\\ \n",
    "\\vdots \\\\\n",
    "y_{n-1} \\\\ \n",
    "\\end{array} \\right]\n",
    "$\n",
    "\n",
    "Para exemplificar, consideremos os seguintes dados:\n",
    "\n",
    "$f(-1) = 1$, $f(0) = 0$ e $f(1)=1$\n",
    "\n",
    "Qual é o polinômia de grau 2 que interpola esses três pontos?"
   ]
  },
  {
   "cell_type": "code",
   "execution_count": null,
   "metadata": {
    "collapsed": false
   },
   "outputs": [],
   "source": [
    "import numpy as np\n",
    "\n",
    "x = np.array([-2,-1,0,1,2])\n",
    "y = np.array([4,1,0,1,4])\n",
    "V = np.array([[1,x[0],x[0]**2,x[0]**3,x[0]**4], [1,x[1],x[1]**2,x[1]**3,x[1]**4], \\\n",
    "              [1,x[2],x[2]**2,x[2]**3,x[2]**4], [1,x[3],x[3]**2,x[3]**3,x[3]**4], \\\n",
    "              [1,x[4],x[4]**2,x[4]**3,x[4]**4]])\n",
    "a = np.linalg.solve(V, y)\n",
    "print(a)\n",
    "np.allclose(np.dot(V, a), y)"
   ]
  },
  {
   "cell_type": "code",
   "execution_count": 8,
   "metadata": {
    "collapsed": false
   },
   "outputs": [
    {
     "name": "stdout",
     "output_type": "stream",
     "text": [
      "[  4.00000000e+00   3.92000202e+00   3.84081210e+00   3.76243024e+00\n",
      "   3.68485644e+00   3.60809070e+00   3.53213303e+00   3.45698341e+00\n",
      "   3.38264185e+00   3.30910836e+00   3.23638292e+00   3.16446554e+00\n",
      "   3.09335623e+00   3.02305497e+00   2.95356178e+00   2.88487664e+00\n",
      "   2.81699957e+00   2.74993056e+00   2.68366960e+00   2.61821671e+00\n",
      "   2.55357188e+00   2.48973511e+00   2.42670640e+00   2.36448575e+00\n",
      "   2.30307315e+00   2.24246862e+00   2.18267215e+00   2.12368375e+00\n",
      "   2.06550340e+00   2.00813111e+00   1.95156688e+00   1.89581071e+00\n",
      "   1.84086260e+00   1.78672256e+00   1.73339057e+00   1.68086664e+00\n",
      "   1.62915078e+00   1.57824297e+00   1.52814323e+00   1.47885154e+00\n",
      "   1.43036792e+00   1.38269236e+00   1.33582485e+00   1.28976541e+00\n",
      "   1.24451403e+00   1.20007071e+00   1.15643544e+00   1.11360824e+00\n",
      "   1.07158910e+00   1.03037802e+00   9.89975001e-01   9.50380041e-01\n",
      "   9.11593142e-01   8.73614303e-01   8.36443524e-01   8.00080806e-01\n",
      "   7.64526148e-01   7.29779551e-01   6.95841014e-01   6.62710538e-01\n",
      "   6.30388122e-01   5.98873766e-01   5.68167471e-01   5.38269236e-01\n",
      "   5.09179061e-01   4.80896947e-01   4.53422893e-01   4.26756900e-01\n",
      "   4.00898967e-01   3.75849095e-01   3.51607283e-01   3.28173531e-01\n",
      "   3.05547840e-01   2.83730209e-01   2.62720638e-01   2.42519128e-01\n",
      "   2.23125679e-01   2.04540289e-01   1.86762961e-01   1.69793692e-01\n",
      "   1.53632484e-01   1.38279336e-01   1.23734249e-01   1.09997222e-01\n",
      "   9.70682559e-02   8.49473498e-02   7.36345042e-02   6.31297189e-02\n",
      "   5.34329941e-02   4.45443297e-02   3.64637257e-02   2.91911820e-02\n",
      "   2.27266988e-02   1.70702760e-02   1.22219136e-02   8.18161158e-03\n",
      "   4.94936997e-03   2.52518876e-03   9.09067953e-04   1.01007550e-04\n",
      "   1.01007550e-04   9.09067953e-04   2.52518876e-03   4.94936997e-03\n",
      "   8.18161158e-03   1.22219136e-02   1.70702760e-02   2.27266988e-02\n",
      "   2.91911820e-02   3.64637257e-02   4.45443297e-02   5.34329941e-02\n",
      "   6.31297189e-02   7.36345042e-02   8.49473498e-02   9.70682559e-02\n",
      "   1.09997222e-01   1.23734249e-01   1.38279336e-01   1.53632484e-01\n",
      "   1.69793692e-01   1.86762961e-01   2.04540289e-01   2.23125679e-01\n",
      "   2.42519128e-01   2.62720638e-01   2.83730209e-01   3.05547840e-01\n",
      "   3.28173531e-01   3.51607283e-01   3.75849095e-01   4.00898967e-01\n",
      "   4.26756900e-01   4.53422893e-01   4.80896947e-01   5.09179061e-01\n",
      "   5.38269236e-01   5.68167471e-01   5.98873766e-01   6.30388122e-01\n",
      "   6.62710538e-01   6.95841014e-01   7.29779551e-01   7.64526148e-01\n",
      "   8.00080806e-01   8.36443524e-01   8.73614303e-01   9.11593142e-01\n",
      "   9.50380041e-01   9.89975001e-01   1.03037802e+00   1.07158910e+00\n",
      "   1.11360824e+00   1.15643544e+00   1.20007071e+00   1.24451403e+00\n",
      "   1.28976541e+00   1.33582485e+00   1.38269236e+00   1.43036792e+00\n",
      "   1.47885154e+00   1.52814323e+00   1.57824297e+00   1.62915078e+00\n",
      "   1.68086664e+00   1.73339057e+00   1.78672256e+00   1.84086260e+00\n",
      "   1.89581071e+00   1.95156688e+00   2.00813111e+00   2.06550340e+00\n",
      "   2.12368375e+00   2.18267215e+00   2.24246862e+00   2.30307315e+00\n",
      "   2.36448575e+00   2.42670640e+00   2.48973511e+00   2.55357188e+00\n",
      "   2.61821671e+00   2.68366960e+00   2.74993056e+00   2.81699957e+00\n",
      "   2.88487664e+00   2.95356178e+00   3.02305497e+00   3.09335623e+00\n",
      "   3.16446554e+00   3.23638292e+00   3.30910836e+00   3.38264185e+00\n",
      "   3.45698341e+00   3.53213303e+00   3.60809070e+00   3.68485644e+00\n",
      "   3.76243024e+00   3.84081210e+00   3.92000202e+00   4.00000000e+00]\n"
     ]
    },
    {
     "data": {
      "text/plain": [
       "<matplotlib.text.Text at 0x10f18da90>"
      ]
     },
     "execution_count": 8,
     "metadata": {},
     "output_type": "execute_result"
    },
    {
     "data": {
      "image/png": "[encoded data removed]",
      "text/plain": [
       "<matplotlib.figure.Figure at 0x103975c10>"
      ]
     },
     "metadata": {},
     "output_type": "display_data"
    }
   ],
   "source": [
    "import matplotlib \n",
    "import matplotlib.pylab as plt\n",
    "\n",
    "%matplotlib inline\n",
    "\n",
    "def evalpol(a,x):\n",
    "    if (len(a)==1):\n",
    "        return a[0]\n",
    "    else:\n",
    "        return a[0] + x * evalpol(a[1:],x)\n",
    "    \n",
    "# Generate data to plot\n",
    "px = np.linspace(min(x), max(x), 200)\n",
    "py = evalpol(a,px)\n",
    "print(py)\n",
    "\n",
    "# Make plot\n",
    "plt.plot(px, py)\n",
    "plt.xlabel(r'$x$')\n",
    "plt.ylabel(r'$p(x)$')\n"
   ]
  },
  {
   "cell_type": "code",
   "execution_count": 11,
   "metadata": {
    "collapsed": false
   },
   "outputs": [
    {
     "name": "stdout",
     "output_type": "stream",
     "text": [
      "[ 1.  0.  1.]\n"
     ]
    }
   ],
   "source": [
    "print(evalpol(a,np.array([-1,0,1])))"
   ]
  },
  {
   "cell_type": "code",
   "execution_count": 18,
   "metadata": {
    "collapsed": false
   },
   "outputs": [
    {
     "name": "stdout",
     "output_type": "stream",
     "text": [
      "0.0\n"
     ]
    }
   ],
   "source": [
    "print(evalpol(a,0))"
   ]
  },
  {
   "cell_type": "code",
   "execution_count": 19,
   "metadata": {
    "collapsed": false
   },
   "outputs": [
    {
     "name": "stdout",
     "output_type": "stream",
     "text": [
      "1.0\n"
     ]
    }
   ],
   "source": [
    "print(evalpol(a,1))"
   ]
  },
  {
   "cell_type": "markdown",
   "metadata": {},
   "source": [
    "__Exercício:__\n",
    "\n",
    "1- Contrua uma função que receba como entrada os vetores x e y com n pontos, e retorne os coeficientes do polinômio que os interpola.\n",
    "\n",
    "2- Verifique o seu algoritmo com os seguintes pontos de entrada:"
   ]
  },
  {
   "cell_type": "code",
   "execution_count": 28,
   "metadata": {
    "collapsed": false
   },
   "outputs": [
    {
     "name": "stdout",
     "output_type": "stream",
     "text": [
      "(array([-1.        , -0.89473684, -0.78947368, -0.68421053, -0.57894737,\n",
      "       -0.47368421, -0.36842105, -0.26315789, -0.15789474, -0.05263158,\n",
      "        0.05263158,  0.15789474,  0.26315789,  0.36842105,  0.47368421,\n",
      "        0.57894737,  0.68421053,  0.78947368,  0.89473684,  1.        ]), array([-0.84147098, -0.78004444, -0.70998273, -0.63206143, -0.54714315,\n",
      "       -0.45616793, -0.36014289, -0.26013102, -0.15723948, -0.05260728,\n",
      "        0.05260728,  0.15723948,  0.26013102,  0.36014289,  0.45616793,\n",
      "        0.54714315,  0.63206143,  0.70998273,  0.78004444,  0.84147098]))\n"
     ]
    }
   ],
   "source": [
    "x = np.linspace(-1,1,20)\n",
    "y = np.sin(x)\n",
    "print(x,y)"
   ]
  },
  {
   "cell_type": "code",
   "execution_count": 29,
   "metadata": {
    "collapsed": false
   },
   "outputs": [
    {
     "name": "stdout",
     "output_type": "stream",
     "text": [
      "[  1.11022302e-16   1.00000000e+00  -1.23953398e-15  -1.66666667e-01\n",
      "   6.02411278e-14   8.33333333e-03  -9.35896383e-13  -1.98412693e-04\n",
      "   7.18148815e-12   2.75569257e-06  -3.02201293e-11  -2.49042432e-08\n",
      "   7.23157597e-11  -1.63752071e-10  -9.74565450e-11   4.08693020e-10\n",
      "   6.85230064e-11  -2.74222700e-10  -1.94666815e-11   7.51319340e-11]\n"
     ]
    }
   ],
   "source": [
    "def interpola(x,y):\n",
    "    n = len(x)\n",
    "    V = np.zeros((n,n))\n",
    "    for i in range(n):\n",
    "        for j in range(n):\n",
    "            V[i,j] = x[i]**j\n",
    "    a = np.linalg.solve(V,y)\n",
    "    return a\n",
    "\n",
    "a = interpola(x,y)\n",
    "print(a)"
   ]
  },
  {
   "cell_type": "code",
   "execution_count": 31,
   "metadata": {
    "collapsed": false
   },
   "outputs": [
    {
     "name": "stdout",
     "output_type": "stream",
     "text": [
      "[ -4.31199230e+04  -3.55300071e+04  -2.92170740e+04  -2.39763736e+04\n",
      "  -1.96343361e+04  -1.60440798e+04  -1.30815280e+04  -1.06420586e+04\n",
      "  -8.63761693e+03  -6.99423317e+03  -5.64988943e+03  -4.55269179e+03\n",
      "  -3.65930561e+03  -2.93361889e+03  -2.34560232e+03  -1.87033904e+03\n",
      "  -1.48720028e+03  -1.17914632e+03  -9.32134977e+02  -7.34622032e+02\n",
      "  -5.77140152e+02  -4.51944826e+02  -3.52717228e+02  -2.74315442e+02\n",
      "  -2.12566659e+02  -1.64094001e+02  -1.26172561e+02  -9.66100235e+01\n",
      "  -7.36479264e+01  -5.58802088e+01  -4.21862020e+01  -3.16756570e+01\n",
      "  -2.36437759e+01  -1.75345352e+01  -1.29108649e+01  -9.43047682e+00\n",
      "  -6.82633646e+00  -4.89093891e+00  -3.46369179e+00  -2.42082749e+00\n",
      "  -1.66736745e+00  -1.13074561e+00  -7.55768534e-01  -5.00648271e-01\n",
      "  -3.33893037e-01  -2.31880898e-01  -1.76975173e-01  -1.56067569e-01\n",
      "  -1.59457573e-01  -1.79994958e-01  -2.12427161e-01  -2.52905407e-01\n",
      "  -2.98613171e-01  -3.47488417e-01  -3.98017305e-01  -4.49082037e-01\n",
      "  -4.99849466e-01  -5.49690181e-01  -5.98120224e-01  -6.44759507e-01\n",
      "  -6.89302418e-01  -7.31497293e-01  -7.71132250e-01  -8.08025549e-01\n",
      "  -8.42019152e-01  -8.72974503e-01  -9.00769827e-01  -9.25298474e-01\n",
      "  -9.46467928e-01  -9.64199278e-01  -9.78426942e-01  -9.89098571e-01\n",
      "  -9.96175025e-01  -9.99630399e-01  -9.99452035e-01  -9.95640534e-01\n",
      "  -9.88209728e-01  -9.77186621e-01  -9.62611276e-01  -9.44536677e-01\n",
      "  -9.23028527e-01  -8.98165012e-01  -8.70036514e-01  -8.38745285e-01\n",
      "  -8.04405074e-01  -7.67140715e-01  -7.27087668e-01  -6.84391534e-01\n",
      "  -6.39207520e-01  -5.91699878e-01  -5.42041307e-01  -4.90412323e-01\n",
      "  -4.37000607e-01  -3.82000320e-01  -3.25611396e-01  -2.68038820e-01\n",
      "  -2.09491877e-01  -1.50183395e-01  -9.03289709e-02  -3.01461858e-02\n",
      "   3.01461858e-02   9.03289709e-02   1.50183395e-01   2.09491877e-01\n",
      "   2.68038820e-01   3.25611396e-01   3.82000320e-01   4.37000607e-01\n",
      "   4.90412323e-01   5.42041307e-01   5.91699878e-01   6.39207520e-01\n",
      "   6.84391534e-01   7.27087668e-01   7.67140715e-01   8.04405074e-01\n",
      "   8.38745285e-01   8.70036514e-01   8.98165012e-01   9.23028527e-01\n",
      "   9.44536677e-01   9.62611276e-01   9.77186620e-01   9.88209726e-01\n",
      "   9.95640527e-01   9.99452019e-01   9.99630363e-01   9.96174946e-01\n",
      "   9.89098400e-01   9.78426589e-01   9.64198574e-01   9.46466563e-01\n",
      "   9.25295896e-01   9.00765078e-01   8.72965948e-01   8.42004057e-01\n",
      "   8.07999418e-01   7.71087814e-01   7.31422969e-01   6.89180015e-01\n",
      "   6.44560830e-01   5.97802112e-01   5.49187335e-01   4.99064183e-01\n",
      "   4.47869645e-01   3.96165701e-01   3.44689540e-01   2.94423565e-01\n",
      "   2.46692106e-01   2.03293975e-01   1.66682757e-01   1.40210270e-01\n",
      "   1.28453163e-01   1.37648197e-01   1.76268921e-01   2.55785228e-01\n",
      "   3.91658290e-01   6.04636952e-01   9.22438352e-01   1.38191611e+00\n",
      "   2.03184442e+00   2.93647708e+00   4.18007722e+00   5.87265884e+00\n",
      "   8.15723458e+00   1.12189298e+01   1.52964003e+01   2.06960834e+01\n",
      "   2.78099250e+01   3.71373522e+01   4.93124225e+01   6.51372580e+01\n",
      "   8.56230954e+01   1.12040534e+02   1.45980860e+02   1.89430689e+02\n",
      "   2.44862543e+02   3.15344508e+02   4.04672607e+02   5.17530220e+02\n",
      "   6.59679582e+02   8.38191286e+02   1.06171866e+03   1.34082510e+03\n",
      "   1.68837360e+03   2.11998950e+03   2.65460882e+03   3.31512680e+03\n",
      "   4.12916350e+03   5.12996559e+03   6.35746671e+03   7.85953200e+03\n",
      "   9.69341583e+03   1.19274666e+04   1.46431167e+04   1.79372016e+04\n",
      "   2.19246575e+04   2.67416555e+04   3.25492348e+04   3.95375112e+04]\n"
     ]
    },
    {
     "data": {
      "text/plain": [
       "<matplotlib.text.Text at 0x10f758650>"
      ]
     },
     "execution_count": 31,
     "metadata": {},
     "output_type": "execute_result"
    },
    {
     "data": {
      "image/png": "[encoded data removed]",
      "text/plain": [
       "<matplotlib.figure.Figure at 0x10fdd4610>"
      ]
     },
     "metadata": {},
     "output_type": "display_data"
    }
   ],
   "source": [
    "import matplotlib \n",
    "import matplotlib.pylab as plt\n",
    "\n",
    "%matplotlib inline\n",
    "\n",
    "def evalpol(a,x):\n",
    "    if (len(a)==1):\n",
    "        return a[0]\n",
    "    else:\n",
    "        return a[0] + x * evalpol(a[1:],x)\n",
    "    \n",
    "# Generate data to plot\n",
    "px = np.linspace(-6.0, 6.0, 200)\n",
    "py = evalpol(a,px)\n",
    "print(py)\n",
    "\n",
    "# Make plot\n",
    "plt.plot(px, py, px, np.sin(px))\n",
    "plt.ylim([-3.0,3.0])\n",
    "plt.xlabel(r'$x$')\n",
    "plt.ylabel(r'$p(x)$')"
   ]
  },
  {
   "cell_type": "code",
   "execution_count": null,
   "metadata": {
    "collapsed": true
   },
   "outputs": [],
   "source": []
  }
 ],
 "metadata": {
  "kernelspec": {
   "display_name": "Python 2",
   "language": "python",
   "name": "python2"
  },
  "language_info": {
   "codemirror_mode": {
    "name": "ipython",
    "version": 2
   },
   "file_extension": ".py",
   "mimetype": "text/x-python",
   "name": "python",
   "nbconvert_exporter": "python",
   "pygments_lexer": "ipython2",
   "version": "2.7.11"
  }
 },
 "nbformat": 4,
 "nbformat_minor": 0
}
