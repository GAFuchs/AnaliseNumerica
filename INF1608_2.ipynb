{
 "cells": [
  {
   "cell_type": "code",
   "execution_count": 57,
   "metadata": {
    "collapsed": false
   },
   "outputs": [
    {
     "name": "stdout",
     "output_type": "stream",
     "text": [
      "[  0.00000000e+00   1.00000000e+00  -1.24649215e-15  -1.66666667e-01\n",
      "   6.04826660e-14   8.33333333e-03  -9.41480904e-13  -1.98412692e-04\n",
      "   7.24135160e-12   2.75569249e-06  -3.05549966e-11  -2.49038191e-08\n",
      "   7.33402243e-11  -1.65049726e-10  -9.91588754e-11   4.10849305e-10\n",
      "   6.99461639e-11  -2.76025366e-10  -1.99316226e-11   7.57208593e-11]\n"
     ]
    }
   ],
   "source": [
    "import numpy as np\n",
    "\n",
    "def getCoefPolInter(x, y):\n",
    "    \n",
    "    A = np.zeros(shape=(len(x), len(x)))\n",
    "    \n",
    "    for i in range(len(x)):\n",
    "        for j in range(len(x)):\n",
    "            A[i][j] = x[i] ** j\n",
    "    \n",
    "    return np.linalg.solve(A, y)\n",
    "\n",
    "x = np.linspace(-1,1,20)\n",
    "y = np.sin(x)\n",
    "\n",
    "print(getCoefPolInter(x, y))"
   ]
  },
  {
   "cell_type": "code",
   "execution_count": 58,
   "metadata": {
    "collapsed": false
   },
   "outputs": [
    {
     "name": "stdout",
     "output_type": "stream",
     "text": [
      "[[ 0.  0.  0.  0.  0.  0.  0.  0.  0.  0.]\n",
      " [ 0.  0.  0.  0.  0.  0.  0.  0.  0.  0.]\n",
      " [ 0.  0.  0.  0.  0.  0.  0.  0.  0.  0.]\n",
      " [ 0.  0.  0.  0.  0.  0.  0.  0.  0.  0.]\n",
      " [ 0.  0.  0.  0.  0.  0.  0.  0.  0.  0.]\n",
      " [ 0.  0.  0.  0.  0.  0.  0.  0.  0.  0.]\n",
      " [ 0.  0.  0.  0.  0.  0.  0.  0.  0.  0.]\n",
      " [ 0.  0.  0.  0.  0.  0.  0.  0.  0.  0.]\n",
      " [ 0.  0.  0.  0.  0.  0.  0.  0.  0.  0.]\n",
      " [ 0.  0.  0.  0.  0.  0.  0.  0.  0.  0.]]\n"
     ]
    }
   ],
   "source": [
    "import numpy as np\n",
    "\n",
    "x = [1,1,1,1,1,1,1,1,1,1]\n",
    "\n",
    "A = np.zeros(shape=(len(x), len(x)))\n",
    "\n",
    "print(A)"
   ]
  },
  {
   "cell_type": "code",
   "execution_count": null,
   "metadata": {
    "collapsed": true
   },
   "outputs": [],
   "source": []
  },
  {
   "cell_type": "code",
   "execution_count": null,
   "metadata": {
    "collapsed": true
   },
   "outputs": [],
   "source": []
  }
 ],
 "metadata": {
  "kernelspec": {
   "display_name": "Python 2",
   "language": "python",
   "name": "python2"
  },
  "language_info": {
   "codemirror_mode": {
    "name": "ipython",
    "version": 2
   },
   "file_extension": ".py",
   "mimetype": "text/x-python",
   "name": "python",
   "nbconvert_exporter": "python",
   "pygments_lexer": "ipython2",
   "version": "2.7.11"
  }
 },
 "nbformat": 4,
 "nbformat_minor": 0
}
