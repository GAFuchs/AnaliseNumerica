{
 "cells": [
  {
   "cell_type": "code",
   "execution_count": 26,
   "metadata": {
    "collapsed": false
   },
   "outputs": [
    {
     "data": {
      "image/png": "[encoded data removed]",
      "text/plain": [
       "<matplotlib.figure.Figure at 0x7f654c01f150>"
      ]
     },
     "metadata": {},
     "output_type": "display_data"
    }
   ],
   "source": [
    "import numpy as np\n",
    "import matplotlib.pyplot as plt\n",
    "import math\n",
    "\n",
    "%matplotlib inline\n",
    "\n",
    "def evalSheppard(x,y,PX,PY,PZ,k):\n",
    "    \n",
    "    n = len(PX)\n",
    "    s = np.zeros(n)\n",
    "    wt = 0.0\n",
    "    for i in range(n):\n",
    "        if (x == PX[i]):\n",
    "            return PY[i]        \n",
    "        s[i] = 1.0/((abs(x-PX[i])))**k\n",
    "        wt += s[i]\n",
    "    for i in range(n):\n",
    "        if (y == PY[i]):\n",
    "            return PZ[i]\n",
    "        sAux = 1.0/((abs(x-PY[i])))**k\n",
    "        s[i] += sAux\n",
    "        wt += sAux\n",
    "    p = 0.0\n",
    "    for i in range(n):\n",
    "        p += PZ[i]*(s[i]/wt)\n",
    "    return p\n",
    "\n",
    "# the function that I'm going to plot\n",
    "\n",
    "def eval_z_func(x,y,PX,PY,PZ,k):\n",
    "\n",
    "    Z = np.zeros((len(x),len(y))) \n",
    "\n",
    "    for i in range(len(x)):\n",
    "\n",
    "        for j in range(len(y)):\n",
    "\n",
    "            Z[i,j]=evalSheppard(x[i,j],y[i,j],PX,PY,PZ,k)\n",
    "\n",
    "    return Z\n",
    "\n",
    "\n",
    "PX = [-1.0,0.0,1.0,2.0,3.0,2.0,1.0]\n",
    "\n",
    "PY = [ 1.0,3.0,2.0,2.0,-1.0,-2.0,-1.0] \n",
    "\n",
    "PZ = [ 2.0,-1.0,3.0,1.0,2.0,-2.0,-3.0]\n",
    "\n",
    "\n",
    "x = np.arange(-4.0,4.0,0.1)\n",
    "\n",
    "y = np.arange(-4.0,4.0,0.1)\n",
    "\n",
    "X,Y = np.meshgrid(x, y) # grid of point\n",
    "#print(X)\n",
    "\n",
    "Z = eval_z_func(X,Y,PX,PY,PZ,2) # evaluation of the function on the grid\n",
    "\n",
    "\n",
    "# adding the Contour lines with labels\n",
    "\n",
    "cset1 = plt.contourf(X,Y,Z,cmap=plt.cm.RdBu)\n",
    "\n",
    "cset2 = plt.contour(X,Y,Z,np.arange(min(PZ),max(PZ),(max(PZ)-min(PZ))/(len(PZ)*2)),linewidths=2,cmap=plt.cm.Set2)\n",
    "\n",
    "plt.scatter(PX,PY)\n",
    "\n",
    "plt.clabel(cset2,inline=True,fmt='%1.1f',fontsize=10)\n",
    "\n",
    "plt.colorbar(cset1) # adding the colobar on the right\n",
    "\n",
    "# latex fashion title\n",
    "\n",
    "plt.title('Sheppard')\n",
    "\n",
    "plt.show()"
   ]
  },
  {
   "cell_type": "code",
   "execution_count": null,
   "metadata": {
    "collapsed": true
   },
   "outputs": [],
   "source": []
  }
 ],
 "metadata": {
  "kernelspec": {
   "display_name": "Python 2",
   "language": "python",
   "name": "python2"
  },
  "language_info": {
   "codemirror_mode": {
    "name": "ipython",
    "version": 2
   },
   "file_extension": ".py",
   "mimetype": "text/x-python",
   "name": "python",
   "nbconvert_exporter": "python",
   "pygments_lexer": "ipython2",
   "version": "2.7.11"
  }
 },
 "nbformat": 4,
 "nbformat_minor": 0
}
