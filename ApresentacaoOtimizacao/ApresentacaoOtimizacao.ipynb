{
 "cells": [
  {
   "cell_type": "markdown",
   "metadata": {},
   "source": [
    "# Gabriel Amaral Fuchs (1521531)\n",
    "\n",
    "## INF1608 - Análise Numérica - 2016.1"
   ]
  },
  {
   "cell_type": "markdown",
   "metadata": {},
   "source": [
    "\n",
    "\n",
    "# Introdução à Otimização\n",
    "\n",
    "## Introdução\n",
    "\n",
    "    O objetivo desta apresentação é apresentar dois métodos de otimização, o 'Golden Section Search' e 'Powell's Method'.\n",
    "    \n",
    "    Simplificando o significado de otimização podemos dar a seguinte definição: Dado uma função F(x) queremos encontrar o x que minimiza ou maximiza o seu valor.\n",
    "    \n",
    "    Para os métodos a seguir vamos considerar que as variáveis estão sujeitas às seguintes condições:\n",
    "\n",
    "1) $$g_i(x) = 0, i = 1,2,...,M$$\n",
    "2) $$h_j(x)<= 0, j = 1,2,...,N$$\n",
    "\n",
    "3)\n",
    "A nova função será:\n",
    "\n",
    "$$F^*(x) = F(x) + \\mu P(x) $$\n",
    "\n",
    "4)\n",
    "Onde:\n",
    "\n",
    "$$P(x) = \\sum_{i=1}^M [g_i(x)]^2 + \\sum_{j=1}^N {max[0,h_j(x)]}^2$$"
   ]
  },
  {
   "cell_type": "markdown",
   "metadata": {},
   "source": [
    "\n",
    "\n",
    "\n",
    "# Golden Section Search\n",
    "\n",
    "    Vamos considerar o problema de minimizar uma função f(x) de uma variável única x com a seguinte restrição, c<= x <=d."
   ]
  },
  {
   "cell_type": "markdown",
   "metadata": {},
   "source": [
    "## Bracketing\n",
    "\n",
    "    Antes de aplicarmos o método de otimização(Golden Section Search), devemos estimar o intervalo em que o ponto de minimização da função se encontra. Esta otimização é um processo chamado 'Bracketing'.\n",
    "    O processo é simples, começamos com um valor inicial x0 e continuamos calculando a função,enquanto seu valor decresce, para x1, x2, x3, ..., até atingirmos o ponto xn onde f(x) aumenta seu valor pela primeira vez, o ponto de mínimo está no intervalo (xn-2, xn).\n",
    "    A seguir temos a implementação de um algoritmo para tal processo:"
   ]
  },
  {
   "cell_type": "code",
   "execution_count": 48,
   "metadata": {
    "collapsed": false
   },
   "outputs": [],
   "source": [
    "from math import log\n",
    "\n",
    "def bracket(f,x1,h):\n",
    "    \n",
    "    c = 1.618033989\n",
    "    f1 = f(x1)\n",
    "    x2 = x1 + h\n",
    "    f2 = f(x2)\n",
    "    \n",
    "    # Determine downhill direction and change sign of h if needed\n",
    "    if f2 > f1:\n",
    "    \n",
    "        h = -h\n",
    "        x2 = x1 + h; f2 = f(x2)\n",
    "\n",
    "    # Check if minimum between x1 - h and x1 + h\n",
    "    if f2 > f1:\n",
    "        \n",
    "        return x2,x1 - h\n",
    "    \n",
    "    # Search loop\n",
    "    for i in range (100):\n",
    "\n",
    "        h = c*h\n",
    "        x3 = x2 + h; f3 = f(x3)\n",
    "\n",
    "        if f3 > f2:\n",
    "            \n",
    "            return x1,x3\n",
    "        \n",
    "        x1 = x2; x2 = x3\n",
    "        f1 = f2; f2 = f3\n",
    "\n",
    "    print 'Bracket não encontrou um mínimo'"
   ]
  },
  {
   "cell_type": "markdown",
   "metadata": {},
   "source": [
    "## Golden Section Search\n",
    "\n",
    "    A seguir temos um exemplo de implementação do método:"
   ]
  },
  {
   "cell_type": "code",
   "execution_count": 49,
   "metadata": {
    "collapsed": true
   },
   "outputs": [],
   "source": [
    "def goldenSearch(f,a,b,tol=1.0e-9):\n",
    "\n",
    "    nIter = (int)(-2.078087*log(tol/abs(b-a)))\n",
    "    R = 0.618033989\n",
    "    C = 1.0 - R\n",
    "\n",
    "    # First telescoping\n",
    "    x1 = R*a + C*b\n",
    "    x2 = C*a + R*b\n",
    "    f1 = f(x1)\n",
    "    f2 = f(x2)\n",
    "\n",
    "    # Main loop\n",
    "    for i in range(nIter):\n",
    "        \n",
    "        if f1 > f2:\n",
    "        \n",
    "            a = x1\n",
    "            x1 = x2\n",
    "            f1 = f2\n",
    "            x2 = C*a + R*b\n",
    "            f2 = f(x2)\n",
    "\n",
    "        else:\n",
    "\n",
    "            b = x2\n",
    "            x2 = x1\n",
    "            f2 = f1\n",
    "            x1 = R*a + C*b\n",
    "            f1 = f(x1)\n",
    "        \n",
    "    if f1 < f2:\n",
    "            \n",
    "        return x1,f1\n",
    "\n",
    "    return x2,f2"
   ]
  },
  {
   "cell_type": "markdown",
   "metadata": {},
   "source": [
    "## Exemplos de aplicação"
   ]
  },
  {
   "cell_type": "code",
   "execution_count": 50,
   "metadata": {
    "collapsed": false
   },
   "outputs": [
    {
     "name": "stdout",
     "output_type": "stream",
     "text": [
      "x = 0.273494113171\n",
      "f(x) = -0.28985978555\n"
     ]
    }
   ],
   "source": [
    "# Exemplo 1:\n",
    "\n",
    "def f(x):\n",
    "    \n",
    "    mu = 1.0\n",
    "    c = min(0.0, x)\n",
    "    \n",
    "    return 1.6*(x**3) + 3.0*(x**2) - 2.0*x + mu*(c**2)\n",
    "\n",
    "xStart = 1.0\n",
    "h = 0.01\n",
    "x1,x2 = bracket(f,xStart,h)\n",
    "x,fMin = goldenSearch(f,x1,x2)\n",
    "print 'x =',x\n",
    "print 'f(x) =',fMin"
   ]
  },
  {
   "cell_type": "code",
   "execution_count": 51,
   "metadata": {
    "collapsed": false
   },
   "outputs": [
    {
     "name": "stdout",
     "output_type": "stream",
     "text": [
      "Optimal y = 52.1762738706\n",
      "Optimal S = 7864.43094136\n",
      "S of triangle = 7200.0\n"
     ]
    }
   ],
   "source": [
    "# Exemplo 2:\n",
    "\n",
    "def f(y):\n",
    "\n",
    "    B = 48.0\n",
    "    H = 60.0\n",
    "    a = B*(H - y)/H\n",
    "    b = (B - a)/2.0\n",
    "    A = (B + a)*y/2.0\n",
    "    Q = (a*y**2)/2.0 + (b*y**2)/3.0\n",
    "    d = Q/A\n",
    "    c = y - d\n",
    "    I = (a*y**3)/3.0 + (b*y**3)/6.0\n",
    "    Ibar = I - A*d**2\n",
    "\n",
    "    return -Ibar/c\n",
    "\n",
    "yStart = 60.0 # Starting value of y\n",
    "h = 1.0 # Size of first step used in bracketing\n",
    "a,b = bracket(f,yStart,h)\n",
    "yOpt,fOpt = goldenSearch(f,a,b)\n",
    "print 'Optimal y =',yOpt\n",
    "print 'Optimal S =',-fOpt\n",
    "print 'S of triangle =',-f(60.0)"
   ]
  },
  {
   "cell_type": "markdown",
   "metadata": {},
   "source": [
    "# Powell's Method\n",
    "\n",
    "$$v(i+1) = v(i) + h \\bigtriangledown(f)$$\n",
    "\n",
    "    "
   ]
  },
  {
   "cell_type": "code",
   "execution_count": 53,
   "metadata": {
    "collapsed": false
   },
   "outputs": [],
   "source": [
    "from numpy import identity,array,dot,zeros,argmax\n",
    "from math import sqrt\n",
    "\n",
    "def powell(F,x,h=0.1,tol=1.0e-6):\n",
    "\n",
    "    def f(s): return F(x + s*v) # F in direction of v\n",
    "\n",
    "    n = len(x) # Number of design variables\n",
    "    df = zeros(n) # Decreases of F stored here\n",
    "    u = identity(n) # Vectors v stored here by rows\n",
    "\n",
    "    for j in range(30): # Allow for 30 cycles:\n",
    "\n",
    "        xOld = x.copy() # Save starting point\n",
    "        fOld = F(xOld)\n",
    "        \n",
    "        # First n line searches record decreases of F\n",
    "        for i in range(n):\n",
    "\n",
    "            v = u[i]\n",
    "            a,b = bracket(f,0.0,h)\n",
    "            s,fMin = goldenSearch(f,a,b)\n",
    "            df[i] = fOld - fMin\n",
    "            fOld = fMin\n",
    "            x = x + s*v\n",
    "\n",
    "        # Last line search in the cycle\n",
    "        v = x - xOld\n",
    "        a,b = bracket(f,0.0,h)\n",
    "        s,fLast = search(f,a,b)\n",
    "        x = x + s*v\n",
    "\n",
    "        # Check for convergence\n",
    "        if sqrt(dot(x-xOld,x-xOld)/n) < tol:\n",
    "                            \n",
    "            return x,j+1\n",
    "        \n",
    "        # Identify biggest decrease & update search directions\n",
    "        iMax = argmax(df)\n",
    "                        \n",
    "        for i in range(iMax,n-1):\n",
    "\n",
    "            u[i] = u[i+1]\n",
    "            u[n-1] = v\n",
    "                            \n",
    "    print 'Powell não convergiu'"
   ]
  },
  {
   "cell_type": "code",
   "execution_count": 54,
   "metadata": {
    "collapsed": false
   },
   "outputs": [
    {
     "name": "stdout",
     "output_type": "stream",
     "text": [
      "x = [ 1.00000002  1.00000003]\n",
      "F(x) = 2.89526011325e-16\n",
      "Number of cycles = 21\n"
     ]
    }
   ],
   "source": [
    "from numpy import array\n",
    "\n",
    "def F(x): return 100.0*(x[1] - x[0]**2)**2 + (1 - x[0])**2\n",
    "\n",
    "xStart = array([-1.0, 1.0])\n",
    "xMin,nIter = powell(F,xStart)\n",
    "\n",
    "print 'x =',xMin\n",
    "print 'F(x) =',F(xMin)\n",
    "print 'Number of cycles =',nIter"
   ]
  },
  {
   "cell_type": "code",
   "execution_count": null,
   "metadata": {
    "collapsed": true
   },
   "outputs": [],
   "source": []
  }
 ],
 "metadata": {
  "kernelspec": {
   "display_name": "Python 2",
   "language": "python",
   "name": "python2"
  },
  "language_info": {
   "codemirror_mode": {
    "name": "ipython",
    "version": 2
   },
   "file_extension": ".py",
   "mimetype": "text/x-python",
   "name": "python",
   "nbconvert_exporter": "python",
   "pygments_lexer": "ipython2",
   "version": "2.7.11"
  }
 },
 "nbformat": 4,
 "nbformat_minor": 0
}
