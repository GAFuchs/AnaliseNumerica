{
 "cells": [
  {
   "cell_type": "code",
   "execution_count": null,
   "metadata": {
    "collapsed": true
   },
   "outputs": [],
   "source": [
    "def GetL(x,x0,x1):\n",
    "    \n",
    "    return (x-x1)/(x0-x1)\n",
    "\n",
    "def MetodoTrapezio(F,x,x0,x1):\n",
    "    \n",
    "    fx0 = F(x0)\n",
    "    fx1 = F(x1)\n",
    "    \n",
    "    return (fx0*GetL(x,x0,x1)) + (fx1*GetL(x,x1,x0))\n",
    "\n",
    "\n",
    "def RungeKutta(f,x0,v):\n",
    "    \n",
    "    n = len(v)\n",
    "    x = numpy.array([x0]*n)\n",
    "    for i in xrange(n-1):\n",
    "        h = v[i+1] - v[i]\n",
    "        k1 = h * f(x[i],v[i])\n",
    "        k2 = h * f(x[i]+0.5*k1,v[i]+0.5*h)\n",
    "        k3 = h * f(x[i]+0.5*k2,v[i]+0.5*h)\n",
    "        k4 = h * f(x[i]+k3,v[i+1])\n",
    "        x[i+1] = x[i]+(k1+2.0*(k2+k3)+k4)/6.0\n",
    "\n",
    "    return x\n",
    "    \n",
    "    \n",
    "    \n",
    "    "
   ]
  }
 ],
 "metadata": {
  "kernelspec": {
   "display_name": "Python 2",
   "language": "python",
   "name": "python2"
  },
  "language_info": {
   "codemirror_mode": {
    "name": "ipython",
    "version": 2
   },
   "file_extension": ".py",
   "mimetype": "text/x-python",
   "name": "python",
   "nbconvert_exporter": "python",
   "pygments_lexer": "ipython2",
   "version": "2.7.11"
  }
 },
 "nbformat": 4,
 "nbformat_minor": 0
}
